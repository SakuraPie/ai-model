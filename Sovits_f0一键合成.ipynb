{
  "cells": [
    {
      "cell_type": "markdown",
      "metadata": {
        "id": "view-in-github",
        "colab_type": "text"
      },
      "source": [
        "<a href=\"https://colab.research.google.com/github/SakuraPie/ai-model/blob/main/Sovits_f0%E4%B8%80%E9%94%AE%E5%90%88%E6%88%90.ipynb\" target=\"_parent\"><img src=\"https://colab.research.google.com/assets/colab-badge.svg\" alt=\"Open In Colab\"/></a>"
      ]
    },
    {
      "cell_type": "markdown",
      "metadata": {
        "id": "F-IpF6c5X0q_"
      },
      "source": [
        "# 简介\n",
        "\n",
        "**适用于本colab关联的sovits2.0模型，1.0/2.0模型、脚本均不通用**\n",
        "\n",
        "**[1.0模型合成](https://colab.research.google.com/drive/14GT8uWM9IATjVylYNGGVXiKWHaDHZSTf)**\n",
        "\n",
        "[一键制作数据集](https://colab.research.google.com/drive/1avWZ_N5BsQcq45XkwQkDpmp912CLZS0n?usp=drive_open#scrollTo=xx2oAf90btEy)\n",
        "\n",
        "[一键训练](https://colab.research.google.com/drive/1DexYpwWIdD_RRqQ165l-YoWMzFAHIbPy?usp=drive_open)\n",
        "\n",
        "**支持一键合成长时间的音频（5min以上），建议使用GPU（CPU比较慢）**\n",
        "\n",
        "**请确保每一步均按顺序完成**\n",
        "\n",
        "**本colab高度自动化，完全按提示操作即可合成，不要自己新建路径等；报错可能是网络原因，清除数据从头开始即可**"
      ]
    },
    {
      "cell_type": "markdown",
      "metadata": {
        "id": "CMIJduVhX2Ge"
      },
      "source": [
        "# 配置环境"
      ]
    },
    {
      "cell_type": "code",
      "execution_count": null,
      "metadata": {
        "id": "BfuRLaqys47I"
      },
      "outputs": [],
      "source": [
        "!apt install libasound2-dev portaudio19-dev libportaudio2 libportaudiocpp0 ffmpeg\n",
        "!pip install --upgrade pip\n",
        "!git clone -b colab https://github.com/IceKyrin/sovits_f0_infer\n",
        "%cd sovits_f0_infer\n",
        "!pip install -r requirements.txt\n",
        "!mkdir pth\n",
        "!mkdir raw\n",
        "!mkdir results\n",
        "%cd wav_temp\n",
        "!mkdir input\n",
        "!mkdir output\n",
        "%cd .."
      ]
    },
    {
      "cell_type": "code",
      "execution_count": null,
      "metadata": {
        "id": "RMUmOmIiX873"
      },
      "outputs": [],
      "source": [
        "!pip install demjson pydub pyworld\n",
        "import logging\n",
        "import os\n",
        "\n",
        "import soundfile\n",
        "\n",
        "from sovits import infer_tool\n",
        "from sovits.infer_tool import Svc\n",
        "from wav_temp import merge"
      ]
    },
    {
      "cell_type": "markdown",
      "metadata": {
        "id": "monWsXd-YUUb"
      },
      "source": [
        "# 加载模型"
      ]
    },
    {
      "cell_type": "markdown",
      "metadata": {
        "id": "EiHW39jFYhou"
      },
      "source": [
        "## 下载内容编码器"
      ]
    },
    {
      "cell_type": "code",
      "execution_count": null,
      "metadata": {
        "id": "sZ2mXdCa10di"
      },
      "outputs": [],
      "source": [
        "# 这个东西是https://github.com/bshall/hubert/releases/tag/v0.1 的hubert-soft-0d54a1f4.pt，可以自己替换来源、但是不能换其他模型（路径自己改）。\n",
        "#!gdown --id '1cA37nsiSnsouF2TJkaXb3_VoA-rbifTu' --output /content/sovits_f0_infer/pth/hubert.pt\n",
        "!wget https://huggingface.co/spaces/xiaolang/sovits_midi_dev/resolve/main/hubert.pt -O /content/sovits_f0_infer/pth/hubert.pt"
      ]
    },
    {
      "cell_type": "markdown",
      "metadata": {
        "id": "5C5qnjljYoPX"
      },
      "source": [
        "## 加载生成器"
      ]
    },
    {
      "cell_type": "markdown",
      "source": [
        "如果要**替换自己的模型**，请自行上传**配套的2.0版本的configs、G_xxx.pth**\n",
        "\n",
        "**使用训练专栏输出到云盘的，改一下名称、无需更改路径**\n",
        "\n",
        "将**自己的配置json（上一篇生成了的）**上传至/content/sovits_f0_infer/configs/文件夹\n",
        "将**自己的模型（上一篇生成了的）**上传至/content/sovits_f0_infer/pth文件夹"
      ],
      "metadata": {
        "id": "rEXBSUEwtu6U"
      }
    },
    {
      "cell_type": "code",
      "execution_count": null,
      "metadata": {
        "id": "YNtmkYruYVqL"
      },
      "outputs": [],
      "source": [
        "from google.colab import drive\n",
        "\n",
        "#@markdown 是否使用谷歌盘内模型（不勾选则自动下载猫雷模型）\n",
        "g_drive = False #@param {type:\"boolean\"}\n",
        "if g_drive:\n",
        "  drive.mount('/content/drive/')\n",
        "  #@markdown 若使用，自行更改文件夹名、模型名\n",
        "  config_path = \"/content/drive/MyDrive/paimeng/config.json\" #@param {type:\"string\"}\n",
        "  model_path = '/content/drive/MyDrive/paimeng/G_xxx.pth' #@param {type:\"string\"}\n",
        "else:\n",
        "  # 这个东西是https://huggingface.co/spaces/innnky/soft-vits-singingvc 的G.pth（猫雷），可以换成自己的模型（必须是按照sovits方式训练出的其他角色模型）\n",
        "  !wget https://huggingface.co/spaces/xiaolang/sovits_f0/resolve/main/152_epochs.pth -O /content/sovits_f0_infer/pth/G.pth  \n",
        "  config_path = \"./configs/nyarumul.json\"\n",
        "  model_path = \"/content/sovits_f0_infer/pth/G.pth\"\n",
        "\n",
        "# 加载sovits模型、参数\n",
        "svc_model = Svc(model_path, config_path)"
      ]
    },
    {
      "cell_type": "markdown",
      "metadata": {
        "id": "oy-GDKKsZl-j"
      },
      "source": [
        "# 声音转换\n",
        "\n",
        "支持{1、2}**任选一个方式**的声音转换！\n",
        "支持**10s以上5分钟以内**的音频（再久合成时间会过长）。\n",
        "上传到/content/sovits_f0_infer/raw文件夹，支持自动合成歌曲\n",
        "\n",
        "使用[spleeter](https://github.com/deezer/spleeter)的2stems模式分离歌曲，自动生成这两个文件。（请自行阅读官方使用文档）\n",
        "\n",
        "spleeter separate -p spleeter:2stems -o output audio_example.mp3\n",
        "\n",
        "**结果自动输出至results文件夹。**自行下载，无预览\n",
        "mp3为自动合成的带伴奏歌曲，out_vits为纯人声。"
      ]
    },
    {
      "cell_type": "markdown",
      "metadata": {
        "id": "CqCACnGFbOZE"
      },
      "source": [
        "1、使用参考音频"
      ]
    },
    {
      "cell_type": "code",
      "execution_count": null,
      "metadata": {
        "id": "VX_Rgrc6iQtt"
      },
      "outputs": [],
      "source": [
        "!gdown --id '10JQMPdzp0gjg9cVVersxVZWhIr4UwrFF' --output /content/sovits_f0_infer/raw/vocals.wav"
      ]
    },
    {
      "cell_type": "markdown",
      "metadata": {
        "id": "JmYTeL_BiXty"
      },
      "source": [
        "2、使用上传音频\n",
        "\n",
        "自行上传至raw文件夹（单声道，22050hz，wav格式）"
      ]
    },
    {
      "cell_type": "code",
      "execution_count": null,
      "metadata": {
        "id": "ZOgjdsQgKTfD"
      },
      "outputs": [],
      "source": [
        "#@title 加载Google云端硬盘，挂云盘直接往raw拖文件也可以\n",
        "from google.colab import drive\n",
        "drive.mount('/content/drive')"
      ]
    },
    {
      "cell_type": "markdown",
      "metadata": {
        "id": "7wHXCofJ_64b"
      },
      "source": [
        "3、合成音频"
      ]
    },
    {
      "cell_type": "code",
      "execution_count": null,
      "metadata": {
        "id": "MXoalx7B2NEv"
      },
      "outputs": [],
      "source": [
        "import torchaudio\n",
        "#@markdown 角色id——猫雷模型：0号为猫雷，2号为云灏，3号为即霜，4号为奕兰秋\n",
        "\n",
        "#@markdown 源音频为女声，**目标音色为男声**时，**降3-6key**效果较好，反之同理\n",
        "\n",
        "#@markdown 角色id\n",
        "speaker_id = \"4\" #@param {type:\"string\"}\n",
        "#@markdown **可为正负（升降n个半音）**\n",
        "vc_transform = \"-3\" #@param {type:\"string\"}\n",
        "#@markdown 人声文件名（不带.wav）\n",
        "clean_name = \"vocals\" #@param {type:\"string\"}\n",
        "\n",
        "out_audio_name = clean_name\n",
        "# 可填写音源文件列表，音源文件格式为wav，放置于raw文件夹下\n",
        "clean_names = [clean_name]\n",
        "# 合成多少歌曲时，若半音数量不足、自动补齐相同数量（按第一首歌的半音）\n",
        "trans = [int(vc_transform)]  # 加减半音数（可为正负）s\n",
        "# 每首歌同时输出的speaker_id\n",
        "id_list = [int(speaker_id)]\n",
        "\n",
        "\n",
        "\n",
        "cut_time=30\n",
        "infer_tool.fill_a_to_b(trans, clean_names)  # 自动补齐\n",
        "input_wav_path = \"./wav_temp/input\"\n",
        "out_wav_path = \"./wav_temp/output\"\n",
        "infer_tool.mkdir([input_wav_path, out_wav_path])\n",
        "print(\"mis连续超过10%时，考虑升降半音\\n\")\n",
        "# 遍历列表\n",
        "for clean_name, tran in zip(clean_names, trans):\n",
        "    raw_audio_path = f\"./raw/{clean_name}.wav\"\n",
        "    svc_model.format_wav(raw_audio_path)\n",
        "    for spk_id in id_list:\n",
        "        # 清除缓存文件\n",
        "        infer_tool.del_temp_wav(\"./wav_temp\")\n",
        "        var_list = []\n",
        "        mis_list = []\n",
        "        out_audio_name = clean_name\n",
        "\n",
        "        infer_tool.cut_wav(raw_audio_path, out_audio_name, input_wav_path, cut_time)\n",
        "        count = 0\n",
        "        file_list = os.listdir(input_wav_path)\n",
        "        for file_name in file_list:\n",
        "            raw_path = f\"{input_wav_path}/{file_name}\"\n",
        "            out_path = f\"{out_wav_path}/{file_name}\"\n",
        "\n",
        "            out_audio, out_sr = svc_model.infer(spk_id, tran, raw_path)\n",
        "            soundfile.write(out_path, out_audio.cpu().numpy(), svc_model.target_sample)\n",
        "\n",
        "            mistake, var = svc_model.calc_error(raw_path, out_path, tran)\n",
        "            mis_list.append(mistake)\n",
        "            var_list.append(var)\n",
        "            count += 1\n",
        "            print(f\"{file_name}: {round(100 * count / len(file_list), 2)}%  mis:{mistake} var:{var}\")\n",
        "        print(\n",
        "            f\"分段误差参考：0.3优秀，0.5左右合理，少量0.8-1可以接受\\n若偏差过大，请调整升降半音数；多次调整均过大、说明超出歌手音域\\n半音偏差：{mis_list}\\n半音方差：{var_list}\")\n",
        "        merge.run(out_audio_name)\n",
        "        # 清除缓存文件\n",
        "        infer_tool.del_temp_wav(\"./wav_temp\")"
      ]
    },
    {
      "cell_type": "code",
      "source": [
        "import IPython.display as ipd\n",
        "import torchaudio\n",
        "#@markdown 预览干声（自行进results查看文件名，带.wav，仅支持wav）\n",
        "source_path = \"/content/sovits_f0_infer/results/vocals.wav\"  #@param {type:\"string\"}\n",
        "audio,sr = torchaudio.load(source_path)\n",
        "ipd.display(ipd.Audio(audio, rate=sr))"
      ],
      "metadata": {
        "id": "vjkgBV7j2cVJ"
      },
      "execution_count": null,
      "outputs": []
    }
  ],
  "metadata": {
    "colab": {
      "provenance": [],
      "include_colab_link": true
    },
    "gpuClass": "standard",
    "interpreter": {
      "hash": "742fb0cf312e06021cb7ef6febc33961079fd3903e709e6dbd223a75c181bd01"
    },
    "kernelspec": {
      "display_name": "Python 3.8.13 ('torch')",
      "language": "python",
      "name": "python3"
    },
    "language_info": {
      "codemirror_mode": {
        "name": "ipython",
        "version": 3
      },
      "file_extension": ".py",
      "mimetype": "text/x-python",
      "name": "python",
      "nbconvert_exporter": "python",
      "pygments_lexer": "ipython3",
      "version": "3.8.13"
    },
    "accelerator": "GPU"
  },
  "nbformat": 4,
  "nbformat_minor": 0
}